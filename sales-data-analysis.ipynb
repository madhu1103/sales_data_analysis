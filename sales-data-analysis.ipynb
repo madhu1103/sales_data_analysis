{
 "cells": [
  {
   "cell_type": "code",
   "execution_count": 1,
   "id": "3eaa79fa",
   "metadata": {
    "execution": {
     "iopub.execute_input": "2024-01-12T13:28:32.813777Z",
     "iopub.status.busy": "2024-01-12T13:28:32.813178Z",
     "iopub.status.idle": "2024-01-12T13:28:35.450383Z",
     "shell.execute_reply": "2024-01-12T13:28:35.449258Z"
    },
    "papermill": {
     "duration": 2.652346,
     "end_time": "2024-01-12T13:28:35.453133",
     "exception": false,
     "start_time": "2024-01-12T13:28:32.800787",
     "status": "completed"
    },
    "tags": []
   },
   "outputs": [],
   "source": [
    "import numpy as np\n",
    "import pandas as pd\n",
    "import matplotlib.pyplot as plt\n",
    "import seaborn as sns"
   ]
  },
  {
   "cell_type": "code",
   "execution_count": 2,
   "id": "a9148d43",
   "metadata": {
    "execution": {
     "iopub.execute_input": "2024-01-12T13:28:35.475189Z",
     "iopub.status.busy": "2024-01-12T13:28:35.474594Z",
     "iopub.status.idle": "2024-01-12T13:28:36.292235Z",
     "shell.execute_reply": "2024-01-12T13:28:36.290055Z"
    },
    "papermill": {
     "duration": 0.833359,
     "end_time": "2024-01-12T13:28:36.296779",
     "exception": false,
     "start_time": "2024-01-12T13:28:35.463420",
     "status": "completed"
    },
    "tags": []
   },
   "outputs": [],
   "source": [
    "sales=pd.read_csv('/kaggle/input/sales-data/Sales_Data.csv')"
   ]
  },
  {
   "cell_type": "code",
   "execution_count": 3,
   "id": "ab6a352c",
   "metadata": {
    "execution": {
     "iopub.execute_input": "2024-01-12T13:28:36.322652Z",
     "iopub.status.busy": "2024-01-12T13:28:36.322238Z",
     "iopub.status.idle": "2024-01-12T13:28:36.361035Z",
     "shell.execute_reply": "2024-01-12T13:28:36.359742Z"
    },
    "papermill": {
     "duration": 0.055571,
     "end_time": "2024-01-12T13:28:36.363975",
     "exception": false,
     "start_time": "2024-01-12T13:28:36.308404",
     "status": "completed"
    },
    "tags": []
   },
   "outputs": [
    {
     "data": {
      "text/html": [
       "<div>\n",
       "<style scoped>\n",
       "    .dataframe tbody tr th:only-of-type {\n",
       "        vertical-align: middle;\n",
       "    }\n",
       "\n",
       "    .dataframe tbody tr th {\n",
       "        vertical-align: top;\n",
       "    }\n",
       "\n",
       "    .dataframe thead th {\n",
       "        text-align: right;\n",
       "    }\n",
       "</style>\n",
       "<table border=\"1\" class=\"dataframe\">\n",
       "  <thead>\n",
       "    <tr style=\"text-align: right;\">\n",
       "      <th></th>\n",
       "      <th>Unnamed: 0</th>\n",
       "      <th>Order ID</th>\n",
       "      <th>Product</th>\n",
       "      <th>Quantity Ordered</th>\n",
       "      <th>Price Each</th>\n",
       "      <th>Order Date</th>\n",
       "      <th>Purchase Address</th>\n",
       "      <th>Month</th>\n",
       "      <th>Sales</th>\n",
       "      <th>City</th>\n",
       "      <th>Hour</th>\n",
       "    </tr>\n",
       "  </thead>\n",
       "  <tbody>\n",
       "    <tr>\n",
       "      <th>0</th>\n",
       "      <td>0</td>\n",
       "      <td>295665</td>\n",
       "      <td>Macbook Pro Laptop</td>\n",
       "      <td>1</td>\n",
       "      <td>1700.00</td>\n",
       "      <td>2019-12-30 00:01:00</td>\n",
       "      <td>136 Church St, New York City, NY 10001</td>\n",
       "      <td>12</td>\n",
       "      <td>1700.00</td>\n",
       "      <td>New York City</td>\n",
       "      <td>0</td>\n",
       "    </tr>\n",
       "    <tr>\n",
       "      <th>1</th>\n",
       "      <td>1</td>\n",
       "      <td>295666</td>\n",
       "      <td>LG Washing Machine</td>\n",
       "      <td>1</td>\n",
       "      <td>600.00</td>\n",
       "      <td>2019-12-29 07:03:00</td>\n",
       "      <td>562 2nd St, New York City, NY 10001</td>\n",
       "      <td>12</td>\n",
       "      <td>600.00</td>\n",
       "      <td>New York City</td>\n",
       "      <td>7</td>\n",
       "    </tr>\n",
       "    <tr>\n",
       "      <th>2</th>\n",
       "      <td>2</td>\n",
       "      <td>295667</td>\n",
       "      <td>USB-C Charging Cable</td>\n",
       "      <td>1</td>\n",
       "      <td>11.95</td>\n",
       "      <td>2019-12-12 18:21:00</td>\n",
       "      <td>277 Main St, New York City, NY 10001</td>\n",
       "      <td>12</td>\n",
       "      <td>11.95</td>\n",
       "      <td>New York City</td>\n",
       "      <td>18</td>\n",
       "    </tr>\n",
       "    <tr>\n",
       "      <th>3</th>\n",
       "      <td>3</td>\n",
       "      <td>295668</td>\n",
       "      <td>27in FHD Monitor</td>\n",
       "      <td>1</td>\n",
       "      <td>149.99</td>\n",
       "      <td>2019-12-22 15:13:00</td>\n",
       "      <td>410 6th St, San Francisco, CA 94016</td>\n",
       "      <td>12</td>\n",
       "      <td>149.99</td>\n",
       "      <td>San Francisco</td>\n",
       "      <td>15</td>\n",
       "    </tr>\n",
       "    <tr>\n",
       "      <th>4</th>\n",
       "      <td>4</td>\n",
       "      <td>295669</td>\n",
       "      <td>USB-C Charging Cable</td>\n",
       "      <td>1</td>\n",
       "      <td>11.95</td>\n",
       "      <td>2019-12-18 12:38:00</td>\n",
       "      <td>43 Hill St, Atlanta, GA 30301</td>\n",
       "      <td>12</td>\n",
       "      <td>11.95</td>\n",
       "      <td>Atlanta</td>\n",
       "      <td>12</td>\n",
       "    </tr>\n",
       "  </tbody>\n",
       "</table>\n",
       "</div>"
      ],
      "text/plain": [
       "   Unnamed: 0  Order ID               Product  Quantity Ordered  Price Each  \\\n",
       "0           0    295665    Macbook Pro Laptop                 1     1700.00   \n",
       "1           1    295666    LG Washing Machine                 1      600.00   \n",
       "2           2    295667  USB-C Charging Cable                 1       11.95   \n",
       "3           3    295668      27in FHD Monitor                 1      149.99   \n",
       "4           4    295669  USB-C Charging Cable                 1       11.95   \n",
       "\n",
       "            Order Date                        Purchase Address  Month  \\\n",
       "0  2019-12-30 00:01:00  136 Church St, New York City, NY 10001     12   \n",
       "1  2019-12-29 07:03:00     562 2nd St, New York City, NY 10001     12   \n",
       "2  2019-12-12 18:21:00    277 Main St, New York City, NY 10001     12   \n",
       "3  2019-12-22 15:13:00     410 6th St, San Francisco, CA 94016     12   \n",
       "4  2019-12-18 12:38:00           43 Hill St, Atlanta, GA 30301     12   \n",
       "\n",
       "     Sales            City  Hour  \n",
       "0  1700.00   New York City     0  \n",
       "1   600.00   New York City     7  \n",
       "2    11.95   New York City    18  \n",
       "3   149.99   San Francisco    15  \n",
       "4    11.95         Atlanta    12  "
      ]
     },
     "execution_count": 3,
     "metadata": {},
     "output_type": "execute_result"
    }
   ],
   "source": [
    "sales.head()\n"
   ]
  },
  {
   "cell_type": "code",
   "execution_count": 4,
   "id": "c3b7255c",
   "metadata": {
    "execution": {
     "iopub.execute_input": "2024-01-12T13:28:36.394832Z",
     "iopub.status.busy": "2024-01-12T13:28:36.394114Z",
     "iopub.status.idle": "2024-01-12T13:28:36.605503Z",
     "shell.execute_reply": "2024-01-12T13:28:36.604163Z"
    },
    "papermill": {
     "duration": 0.23284,
     "end_time": "2024-01-12T13:28:36.609219",
     "exception": false,
     "start_time": "2024-01-12T13:28:36.376379",
     "status": "completed"
    },
    "tags": []
   },
   "outputs": [
    {
     "name": "stdout",
     "output_type": "stream",
     "text": [
      "<class 'pandas.core.frame.DataFrame'>\n",
      "RangeIndex: 185950 entries, 0 to 185949\n",
      "Data columns (total 11 columns):\n",
      " #   Column            Non-Null Count   Dtype  \n",
      "---  ------            --------------   -----  \n",
      " 0   Unnamed: 0        185950 non-null  int64  \n",
      " 1   Order ID          185950 non-null  int64  \n",
      " 2   Product           185950 non-null  object \n",
      " 3   Quantity Ordered  185950 non-null  int64  \n",
      " 4   Price Each        185950 non-null  float64\n",
      " 5   Order Date        185950 non-null  object \n",
      " 6   Purchase Address  185950 non-null  object \n",
      " 7   Month             185950 non-null  int64  \n",
      " 8   Sales             185950 non-null  float64\n",
      " 9   City              185950 non-null  object \n",
      " 10  Hour              185950 non-null  int64  \n",
      "dtypes: float64(2), int64(5), object(4)\n",
      "memory usage: 15.6+ MB\n"
     ]
    }
   ],
   "source": [
    "sales.info()"
   ]
  },
  {
   "cell_type": "code",
   "execution_count": 5,
   "id": "ec4e08e8",
   "metadata": {
    "execution": {
     "iopub.execute_input": "2024-01-12T13:28:36.637068Z",
     "iopub.status.busy": "2024-01-12T13:28:36.636159Z",
     "iopub.status.idle": "2024-01-12T13:28:36.645112Z",
     "shell.execute_reply": "2024-01-12T13:28:36.643567Z"
    },
    "papermill": {
     "duration": 0.024742,
     "end_time": "2024-01-12T13:28:36.647985",
     "exception": false,
     "start_time": "2024-01-12T13:28:36.623243",
     "status": "completed"
    },
    "tags": []
   },
   "outputs": [
    {
     "data": {
      "text/plain": [
       "Index(['Unnamed: 0', 'Order ID', 'Product', 'Quantity Ordered', 'Price Each',\n",
       "       'Order Date', 'Purchase Address', 'Month', 'Sales', 'City', 'Hour'],\n",
       "      dtype='object')"
      ]
     },
     "execution_count": 5,
     "metadata": {},
     "output_type": "execute_result"
    }
   ],
   "source": [
    "sales.columns"
   ]
  },
  {
   "cell_type": "code",
   "execution_count": 6,
   "id": "f2aeb0bb",
   "metadata": {
    "execution": {
     "iopub.execute_input": "2024-01-12T13:28:36.674090Z",
     "iopub.status.busy": "2024-01-12T13:28:36.671780Z",
     "iopub.status.idle": "2024-01-12T13:28:36.681765Z",
     "shell.execute_reply": "2024-01-12T13:28:36.680375Z"
    },
    "papermill": {
     "duration": 0.026286,
     "end_time": "2024-01-12T13:28:36.685266",
     "exception": false,
     "start_time": "2024-01-12T13:28:36.658980",
     "status": "completed"
    },
    "tags": []
   },
   "outputs": [
    {
     "data": {
      "text/plain": [
       "Unnamed: 0            int64\n",
       "Order ID              int64\n",
       "Product              object\n",
       "Quantity Ordered      int64\n",
       "Price Each          float64\n",
       "Order Date           object\n",
       "Purchase Address     object\n",
       "Month                 int64\n",
       "Sales               float64\n",
       "City                 object\n",
       "Hour                  int64\n",
       "dtype: object"
      ]
     },
     "execution_count": 6,
     "metadata": {},
     "output_type": "execute_result"
    }
   ],
   "source": [
    "sales.dtypes"
   ]
  },
  {
   "cell_type": "code",
   "execution_count": 7,
   "id": "73d7b9d2",
   "metadata": {
    "execution": {
     "iopub.execute_input": "2024-01-12T13:28:36.715235Z",
     "iopub.status.busy": "2024-01-12T13:28:36.713853Z",
     "iopub.status.idle": "2024-01-12T13:28:36.805029Z",
     "shell.execute_reply": "2024-01-12T13:28:36.803641Z"
    },
    "papermill": {
     "duration": 0.106693,
     "end_time": "2024-01-12T13:28:36.807880",
     "exception": false,
     "start_time": "2024-01-12T13:28:36.701187",
     "status": "completed"
    },
    "tags": []
   },
   "outputs": [
    {
     "data": {
      "text/plain": [
       "Unnamed: 0          0\n",
       "Order ID            0\n",
       "Product             0\n",
       "Quantity Ordered    0\n",
       "Price Each          0\n",
       "Order Date          0\n",
       "Purchase Address    0\n",
       "Month               0\n",
       "Sales               0\n",
       "City                0\n",
       "Hour                0\n",
       "dtype: int64"
      ]
     },
     "execution_count": 7,
     "metadata": {},
     "output_type": "execute_result"
    }
   ],
   "source": [
    "sales.isnull().sum()"
   ]
  },
  {
   "cell_type": "code",
   "execution_count": 8,
   "id": "7a755613",
   "metadata": {
    "execution": {
     "iopub.execute_input": "2024-01-12T13:28:36.831129Z",
     "iopub.status.busy": "2024-01-12T13:28:36.830713Z",
     "iopub.status.idle": "2024-01-12T13:28:36.838987Z",
     "shell.execute_reply": "2024-01-12T13:28:36.837764Z"
    },
    "papermill": {
     "duration": 0.022897,
     "end_time": "2024-01-12T13:28:36.841478",
     "exception": false,
     "start_time": "2024-01-12T13:28:36.818581",
     "status": "completed"
    },
    "tags": []
   },
   "outputs": [
    {
     "data": {
      "text/plain": [
       "Index(['Unnamed: 0', 'Order ID', 'Product', 'Quantity Ordered', 'Price Each',\n",
       "       'Order Date', 'Purchase Address', 'Month', 'Sales', 'City', 'Hour'],\n",
       "      dtype='object')"
      ]
     },
     "execution_count": 8,
     "metadata": {},
     "output_type": "execute_result"
    }
   ],
   "source": [
    "sales.columns"
   ]
  },
  {
   "cell_type": "code",
   "execution_count": 9,
   "id": "0d16a164",
   "metadata": {
    "execution": {
     "iopub.execute_input": "2024-01-12T13:28:36.865326Z",
     "iopub.status.busy": "2024-01-12T13:28:36.864936Z",
     "iopub.status.idle": "2024-01-12T13:28:36.890140Z",
     "shell.execute_reply": "2024-01-12T13:28:36.888776Z"
    },
    "papermill": {
     "duration": 0.040462,
     "end_time": "2024-01-12T13:28:36.892872",
     "exception": false,
     "start_time": "2024-01-12T13:28:36.852410",
     "status": "completed"
    },
    "tags": []
   },
   "outputs": [],
   "source": [
    "#Removing columns \n",
    "sales=sales.drop(columns=(['Unnamed: 0']))"
   ]
  },
  {
   "cell_type": "code",
   "execution_count": 10,
   "id": "0a9fe702",
   "metadata": {
    "execution": {
     "iopub.execute_input": "2024-01-12T13:28:36.916543Z",
     "iopub.status.busy": "2024-01-12T13:28:36.916161Z",
     "iopub.status.idle": "2024-01-12T13:28:36.922991Z",
     "shell.execute_reply": "2024-01-12T13:28:36.922107Z"
    },
    "papermill": {
     "duration": 0.021683,
     "end_time": "2024-01-12T13:28:36.925738",
     "exception": false,
     "start_time": "2024-01-12T13:28:36.904055",
     "status": "completed"
    },
    "tags": []
   },
   "outputs": [],
   "source": [
    "#data preprocessing\n",
    "sales['Sales']=sales['Sales'].astype('int64')"
   ]
  },
  {
   "cell_type": "code",
   "execution_count": 11,
   "id": "51368875",
   "metadata": {
    "execution": {
     "iopub.execute_input": "2024-01-12T13:28:36.950557Z",
     "iopub.status.busy": "2024-01-12T13:28:36.950143Z",
     "iopub.status.idle": "2024-01-12T13:28:38.642025Z",
     "shell.execute_reply": "2024-01-12T13:28:38.640509Z"
    },
    "papermill": {
     "duration": 1.708024,
     "end_time": "2024-01-12T13:28:38.645009",
     "exception": false,
     "start_time": "2024-01-12T13:28:36.936985",
     "status": "completed"
    },
    "tags": []
   },
   "outputs": [],
   "source": [
    "#Weekly sales \n",
    "sales['Order Date']=pd.to_datetime(sales['Order Date'])\n",
    "sales['Weekday']= sales['Order Date'].dt.strftime('%A')\n",
    "weekday_order = ['Monday', 'Tuesday', 'Wednesday', 'Thursday', 'Friday', 'Saturday', 'Sunday']\n",
    "total_sales_by_weekdays=sales.groupby('Weekday')['Sales'].sum()\n",
    "total_sales_by_weekdays = total_sales_by_weekdays.reindex(weekday_order, level=0)\n",
    "total_sales_by_weekdays=total_sales_by_weekdays.reset_index()"
   ]
  },
  {
   "cell_type": "code",
   "execution_count": 12,
   "id": "0afe5e2a",
   "metadata": {
    "execution": {
     "iopub.execute_input": "2024-01-12T13:28:38.670536Z",
     "iopub.status.busy": "2024-01-12T13:28:38.670110Z",
     "iopub.status.idle": "2024-01-12T13:28:39.050683Z",
     "shell.execute_reply": "2024-01-12T13:28:39.049546Z"
    },
    "papermill": {
     "duration": 0.396946,
     "end_time": "2024-01-12T13:28:39.054091",
     "exception": false,
     "start_time": "2024-01-12T13:28:38.657145",
     "status": "completed"
    },
    "tags": []
   },
   "outputs": [
    {
     "data": {
      "image/png": "[encoded data removed]",
      "text/plain": [
       "<Figure size 640x480 with 1 Axes>"
      ]
     },
     "metadata": {},
     "output_type": "display_data"
    }
   ],
   "source": [
    "#Weekly sales visualization\n",
    "sns.set_palette('muted')\n",
    "#weekday_order = ['Monday', 'Tuesday', 'Wednesday', 'Thursday', 'Friday', 'Saturday', 'Sunday']\n",
    "sales.groupby('Weekday')['Sales'].sum().loc[weekday_order].plot(kind='bar')\n",
    "plt.title('Weekly Sales Distribution by Weekday')\n",
    "plt.xlabel('Weekday')\n",
    "plt.ylabel('Sales')\n",
    "plt.xticks(rotation=45)\n",
    "plt.ylim(0,5000000)\n",
    "plt.show()"
   ]
  },
  {
   "cell_type": "code",
   "execution_count": 13,
   "id": "ef0d903a",
   "metadata": {
    "execution": {
     "iopub.execute_input": "2024-01-12T13:28:39.079053Z",
     "iopub.status.busy": "2024-01-12T13:28:39.078606Z",
     "iopub.status.idle": "2024-01-12T13:28:39.127323Z",
     "shell.execute_reply": "2024-01-12T13:28:39.125832Z"
    },
    "papermill": {
     "duration": 0.064361,
     "end_time": "2024-01-12T13:28:39.129928",
     "exception": false,
     "start_time": "2024-01-12T13:28:39.065567",
     "status": "completed"
    },
    "tags": []
   },
   "outputs": [
    {
     "name": "stdout",
     "output_type": "stream",
     "text": [
      "19\n"
     ]
    },
    {
     "data": {
      "text/plain": [
       "array(['Macbook Pro Laptop', 'LG Washing Machine', 'USB-C Charging Cable',\n",
       "       '27in FHD Monitor', 'AA Batteries (4-pack)',\n",
       "       'Bose SoundSport Headphones', 'AAA Batteries (4-pack)',\n",
       "       'ThinkPad Laptop', 'Lightning Charging Cable', 'Google Phone',\n",
       "       'Wired Headphones', 'Apple Airpods Headphones', 'Vareebadd Phone',\n",
       "       'iPhone', '20in Monitor', '34in Ultrawide Monitor',\n",
       "       'Flatscreen TV', '27in 4K Gaming Monitor', 'LG Dryer'],\n",
       "      dtype=object)"
      ]
     },
     "execution_count": 13,
     "metadata": {},
     "output_type": "execute_result"
    }
   ],
   "source": [
    "#Number of products available\n",
    "print(sales['Product'].nunique())\n",
    "Products_list= sales['Product'].unique()\n",
    "Products_list"
   ]
  },
  {
   "cell_type": "code",
   "execution_count": 14,
   "id": "167d9fdb",
   "metadata": {
    "execution": {
     "iopub.execute_input": "2024-01-12T13:28:39.156545Z",
     "iopub.status.busy": "2024-01-12T13:28:39.156129Z",
     "iopub.status.idle": "2024-01-12T13:28:39.201331Z",
     "shell.execute_reply": "2024-01-12T13:28:39.200183Z"
    },
    "papermill": {
     "duration": 0.061671,
     "end_time": "2024-01-12T13:28:39.203864",
     "exception": false,
     "start_time": "2024-01-12T13:28:39.142193",
     "status": "completed"
    },
    "tags": []
   },
   "outputs": [
    {
     "name": "stdout",
     "output_type": "stream",
     "text": [
      "9\n"
     ]
    },
    {
     "data": {
      "text/plain": [
       "array([' New York City', ' San Francisco', ' Atlanta', ' Portland',\n",
       "       ' Dallas', ' Los Angeles', ' Boston', ' Austin', ' Seattle'],\n",
       "      dtype=object)"
      ]
     },
     "execution_count": 14,
     "metadata": {},
     "output_type": "execute_result"
    }
   ],
   "source": [
    "#Number of cities operating\n",
    "print(sales['City'].nunique())\n",
    "City_list=sales['City'].unique()\n",
    "City_list\n"
   ]
  },
  {
   "cell_type": "code",
   "execution_count": 15,
   "id": "f84d0813",
   "metadata": {
    "execution": {
     "iopub.execute_input": "2024-01-12T13:28:39.229975Z",
     "iopub.status.busy": "2024-01-12T13:28:39.229565Z",
     "iopub.status.idle": "2024-01-12T13:28:39.236396Z",
     "shell.execute_reply": "2024-01-12T13:28:39.235565Z"
    },
    "papermill": {
     "duration": 0.022947,
     "end_time": "2024-01-12T13:28:39.238723",
     "exception": false,
     "start_time": "2024-01-12T13:28:39.215776",
     "status": "completed"
    },
    "tags": []
   },
   "outputs": [
    {
     "data": {
      "text/plain": [
       "34354615"
      ]
     },
     "execution_count": 15,
     "metadata": {},
     "output_type": "execute_result"
    }
   ],
   "source": [
    "#Total Sales\n",
    "sales['Sales'].agg(sum)"
   ]
  },
  {
   "cell_type": "code",
   "execution_count": 16,
   "id": "d2bd8ed6",
   "metadata": {
    "execution": {
     "iopub.execute_input": "2024-01-12T13:28:39.265108Z",
     "iopub.status.busy": "2024-01-12T13:28:39.264653Z",
     "iopub.status.idle": "2024-01-12T13:28:39.271476Z",
     "shell.execute_reply": "2024-01-12T13:28:39.270660Z"
    },
    "papermill": {
     "duration": 0.022686,
     "end_time": "2024-01-12T13:28:39.273700",
     "exception": false,
     "start_time": "2024-01-12T13:28:39.251014",
     "status": "completed"
    },
    "tags": []
   },
   "outputs": [
    {
     "data": {
      "text/plain": [
       "209079"
      ]
     },
     "execution_count": 16,
     "metadata": {},
     "output_type": "execute_result"
    }
   ],
   "source": [
    "#Total Quantity ordered\n",
    "sales['Quantity Ordered'].agg(sum)"
   ]
  },
  {
   "cell_type": "code",
   "execution_count": 17,
   "id": "8f77a065",
   "metadata": {
    "execution": {
     "iopub.execute_input": "2024-01-12T13:28:39.300338Z",
     "iopub.status.busy": "2024-01-12T13:28:39.299379Z",
     "iopub.status.idle": "2024-01-12T13:28:39.337459Z",
     "shell.execute_reply": "2024-01-12T13:28:39.336253Z"
    },
    "papermill": {
     "duration": 0.054125,
     "end_time": "2024-01-12T13:28:39.340010",
     "exception": false,
     "start_time": "2024-01-12T13:28:39.285885",
     "status": "completed"
    },
    "tags": []
   },
   "outputs": [
    {
     "data": {
      "text/html": [
       "<div>\n",
       "<style scoped>\n",
       "    .dataframe tbody tr th:only-of-type {\n",
       "        vertical-align: middle;\n",
       "    }\n",
       "\n",
       "    .dataframe tbody tr th {\n",
       "        vertical-align: top;\n",
       "    }\n",
       "\n",
       "    .dataframe thead th {\n",
       "        text-align: right;\n",
       "    }\n",
       "</style>\n",
       "<table border=\"1\" class=\"dataframe\">\n",
       "  <thead>\n",
       "    <tr style=\"text-align: right;\">\n",
       "      <th></th>\n",
       "      <th>City</th>\n",
       "      <th>sum</th>\n",
       "    </tr>\n",
       "  </thead>\n",
       "  <tbody>\n",
       "    <tr>\n",
       "      <th>0</th>\n",
       "      <td>San Francisco</td>\n",
       "      <td>8229136</td>\n",
       "    </tr>\n",
       "    <tr>\n",
       "      <th>1</th>\n",
       "      <td>Los Angeles</td>\n",
       "      <td>5430629</td>\n",
       "    </tr>\n",
       "    <tr>\n",
       "      <th>2</th>\n",
       "      <td>New York City</td>\n",
       "      <td>4645903</td>\n",
       "    </tr>\n",
       "    <tr>\n",
       "      <th>3</th>\n",
       "      <td>Boston</td>\n",
       "      <td>3646904</td>\n",
       "    </tr>\n",
       "    <tr>\n",
       "      <th>4</th>\n",
       "      <td>Atlanta</td>\n",
       "      <td>2784555</td>\n",
       "    </tr>\n",
       "    <tr>\n",
       "      <th>5</th>\n",
       "      <td>Dallas</td>\n",
       "      <td>2757017</td>\n",
       "    </tr>\n",
       "    <tr>\n",
       "      <th>6</th>\n",
       "      <td>Seattle</td>\n",
       "      <td>2736881</td>\n",
       "    </tr>\n",
       "    <tr>\n",
       "      <th>7</th>\n",
       "      <td>Portland</td>\n",
       "      <td>2311293</td>\n",
       "    </tr>\n",
       "    <tr>\n",
       "      <th>8</th>\n",
       "      <td>Austin</td>\n",
       "      <td>1812297</td>\n",
       "    </tr>\n",
       "  </tbody>\n",
       "</table>\n",
       "</div>"
      ],
      "text/plain": [
       "             City      sum\n",
       "0   San Francisco  8229136\n",
       "1     Los Angeles  5430629\n",
       "2   New York City  4645903\n",
       "3          Boston  3646904\n",
       "4         Atlanta  2784555\n",
       "5          Dallas  2757017\n",
       "6         Seattle  2736881\n",
       "7        Portland  2311293\n",
       "8          Austin  1812297"
      ]
     },
     "execution_count": 17,
     "metadata": {},
     "output_type": "execute_result"
    }
   ],
   "source": [
    "#Sales by product and city\n",
    "cities_by_highsales=sales.groupby(['City'])['Sales'].agg([sum]).sort_values(by='sum',ascending=False).reset_index()\n",
    "cities_by_highsales"
   ]
  },
  {
   "cell_type": "code",
   "execution_count": 18,
   "id": "a6fa96b7",
   "metadata": {
    "execution": {
     "iopub.execute_input": "2024-01-12T13:28:39.366824Z",
     "iopub.status.busy": "2024-01-12T13:28:39.366053Z",
     "iopub.status.idle": "2024-01-12T13:28:39.989578Z",
     "shell.execute_reply": "2024-01-12T13:28:39.988553Z"
    },
    "papermill": {
     "duration": 0.640239,
     "end_time": "2024-01-12T13:28:39.992701",
     "exception": false,
     "start_time": "2024-01-12T13:28:39.352462",
     "status": "completed"
    },
    "tags": []
   },
   "outputs": [
    {
     "data": {
      "text/plain": [
       "(array([0, 1, 2, 3, 4]),\n",
       " [Text(0, 0, ' San Francisco'),\n",
       "  Text(1, 0, ' Los Angeles'),\n",
       "  Text(2, 0, ' New York City'),\n",
       "  Text(3, 0, ' Boston'),\n",
       "  Text(4, 0, ' Atlanta')])"
      ]
     },
     "execution_count": 18,
     "metadata": {},
     "output_type": "execute_result"
    },
    {
     "data": {
      "image/png": "[encoded data removed]",
      "text/plain": [
       "<Figure size 640x480 with 1 Axes>"
      ]
     },
     "metadata": {},
     "output_type": "display_data"
    }
   ],
   "source": [
    "\n",
    "sns.barplot(data=cities_by_highsales.head(), x='City' , y='sum' , hue='City')\n",
    "plt.xticks(rotation=45)"
   ]
  },
  {
   "cell_type": "code",
   "execution_count": 19,
   "id": "e4f193a8",
   "metadata": {
    "execution": {
     "iopub.execute_input": "2024-01-12T13:28:40.021607Z",
     "iopub.status.busy": "2024-01-12T13:28:40.020980Z",
     "iopub.status.idle": "2024-01-12T13:28:40.038660Z",
     "shell.execute_reply": "2024-01-12T13:28:40.037494Z"
    },
    "papermill": {
     "duration": 0.035038,
     "end_time": "2024-01-12T13:28:40.041245",
     "exception": false,
     "start_time": "2024-01-12T13:28:40.006207",
     "status": "completed"
    },
    "tags": []
   },
   "outputs": [
    {
     "data": {
      "text/html": [
       "<div>\n",
       "<style scoped>\n",
       "    .dataframe tbody tr th:only-of-type {\n",
       "        vertical-align: middle;\n",
       "    }\n",
       "\n",
       "    .dataframe tbody tr th {\n",
       "        vertical-align: top;\n",
       "    }\n",
       "\n",
       "    .dataframe thead th {\n",
       "        text-align: right;\n",
       "    }\n",
       "</style>\n",
       "<table border=\"1\" class=\"dataframe\">\n",
       "  <thead>\n",
       "    <tr style=\"text-align: right;\">\n",
       "      <th></th>\n",
       "      <th>Month</th>\n",
       "      <th>Sales</th>\n",
       "    </tr>\n",
       "  </thead>\n",
       "  <tbody>\n",
       "    <tr>\n",
       "      <th>0</th>\n",
       "      <td>1</td>\n",
       "      <td>1815143</td>\n",
       "    </tr>\n",
       "    <tr>\n",
       "      <th>1</th>\n",
       "      <td>2</td>\n",
       "      <td>2193165</td>\n",
       "    </tr>\n",
       "    <tr>\n",
       "      <th>2</th>\n",
       "      <td>3</td>\n",
       "      <td>2795907</td>\n",
       "    </tr>\n",
       "    <tr>\n",
       "      <th>3</th>\n",
       "      <td>4</td>\n",
       "      <td>3377215</td>\n",
       "    </tr>\n",
       "    <tr>\n",
       "      <th>4</th>\n",
       "      <td>5</td>\n",
       "      <td>3140375</td>\n",
       "    </tr>\n",
       "    <tr>\n",
       "      <th>5</th>\n",
       "      <td>6</td>\n",
       "      <td>2567871</td>\n",
       "    </tr>\n",
       "    <tr>\n",
       "      <th>6</th>\n",
       "      <td>7</td>\n",
       "      <td>2637209</td>\n",
       "    </tr>\n",
       "    <tr>\n",
       "      <th>7</th>\n",
       "      <td>8</td>\n",
       "      <td>2235667</td>\n",
       "    </tr>\n",
       "    <tr>\n",
       "      <th>8</th>\n",
       "      <td>9</td>\n",
       "      <td>2088915</td>\n",
       "    </tr>\n",
       "    <tr>\n",
       "      <th>9</th>\n",
       "      <td>10</td>\n",
       "      <td>3721615</td>\n",
       "    </tr>\n",
       "    <tr>\n",
       "      <th>10</th>\n",
       "      <td>11</td>\n",
       "      <td>3186604</td>\n",
       "    </tr>\n",
       "    <tr>\n",
       "      <th>11</th>\n",
       "      <td>12</td>\n",
       "      <td>4594929</td>\n",
       "    </tr>\n",
       "  </tbody>\n",
       "</table>\n",
       "</div>"
      ],
      "text/plain": [
       "    Month    Sales\n",
       "0       1  1815143\n",
       "1       2  2193165\n",
       "2       3  2795907\n",
       "3       4  3377215\n",
       "4       5  3140375\n",
       "5       6  2567871\n",
       "6       7  2637209\n",
       "7       8  2235667\n",
       "8       9  2088915\n",
       "9      10  3721615\n",
       "10     11  3186604\n",
       "11     12  4594929"
      ]
     },
     "execution_count": 19,
     "metadata": {},
     "output_type": "execute_result"
    }
   ],
   "source": [
    "# Total monthly Sales \n",
    "monthly_sale_group=sales.groupby(['Month'])['Sales'].agg(sum).reset_index()\n",
    "monthly_sale_group"
   ]
  },
  {
   "cell_type": "code",
   "execution_count": 20,
   "id": "80e216b7",
   "metadata": {
    "execution": {
     "iopub.execute_input": "2024-01-12T13:28:40.069744Z",
     "iopub.status.busy": "2024-01-12T13:28:40.069361Z",
     "iopub.status.idle": "2024-01-12T13:28:41.907037Z",
     "shell.execute_reply": "2024-01-12T13:28:41.905813Z"
    },
    "papermill": {
     "duration": 1.855106,
     "end_time": "2024-01-12T13:28:41.909720",
     "exception": false,
     "start_time": "2024-01-12T13:28:40.054614",
     "status": "completed"
    },
    "tags": []
   },
   "outputs": [
    {
     "data": {
      "text/plain": [
       "Text(0, 0.5, 'Total Sales')"
      ]
     },
     "execution_count": 20,
     "metadata": {},
     "output_type": "execute_result"
    },
    {
     "data": {
      "image/png": "[encoded data removed]",
      "text/plain": [
       "<Figure size 1000x600 with 1 Axes>"
      ]
     },
     "metadata": {},
     "output_type": "display_data"
    }
   ],
   "source": [
    "\n",
    "# Create a count plot using seaborn\n",
    "plt.figure(figsize=(10, 6))\n",
    "sns.barplot(x='Month', y='Sales', data=monthly_sale_group, hue='Month')\n",
    "\n",
    "# Customize the plot\n",
    "plt.title('Monthly Sales Count Plot')\n",
    "plt.xlabel('Month')\n",
    "plt.ylabel('Total Sales')"
   ]
  },
  {
   "cell_type": "code",
   "execution_count": 21,
   "id": "5a7d349d",
   "metadata": {
    "execution": {
     "iopub.execute_input": "2024-01-12T13:28:41.939514Z",
     "iopub.status.busy": "2024-01-12T13:28:41.939135Z",
     "iopub.status.idle": "2024-01-12T13:28:41.954693Z",
     "shell.execute_reply": "2024-01-12T13:28:41.953662Z"
    },
    "papermill": {
     "duration": 0.033521,
     "end_time": "2024-01-12T13:28:41.957257",
     "exception": false,
     "start_time": "2024-01-12T13:28:41.923736",
     "status": "completed"
    },
    "tags": []
   },
   "outputs": [
    {
     "data": {
      "text/plain": [
       "Month\n",
       "12    4594929\n",
       "11    3186604\n",
       "10    3721615\n",
       "9     2088915\n",
       "8     2235667\n",
       "Name: Sales, dtype: int64"
      ]
     },
     "execution_count": 21,
     "metadata": {},
     "output_type": "execute_result"
    }
   ],
   "source": [
    "# Higher sales in monthlywise\n",
    "higher_sales=sales.groupby(['Month'])['Sales'].agg(sum).sort_index(ascending=False)\n",
    "higher_sales.head()"
   ]
  },
  {
   "cell_type": "code",
   "execution_count": 22,
   "id": "c7f69507",
   "metadata": {
    "execution": {
     "iopub.execute_input": "2024-01-12T13:28:41.987698Z",
     "iopub.status.busy": "2024-01-12T13:28:41.987302Z",
     "iopub.status.idle": "2024-01-12T13:28:42.021902Z",
     "shell.execute_reply": "2024-01-12T13:28:42.020751Z"
    },
    "papermill": {
     "duration": 0.053222,
     "end_time": "2024-01-12T13:28:42.024607",
     "exception": false,
     "start_time": "2024-01-12T13:28:41.971385",
     "status": "completed"
    },
    "tags": []
   },
   "outputs": [
    {
     "name": "stdout",
     "output_type": "stream",
     "text": [
      "                       Product    Sales\n",
      "0           Macbook Pro Laptop  8037600\n",
      "1                       iPhone  4794300\n",
      "2              ThinkPad Laptop  4125872\n",
      "3                 Google Phone  3319200\n",
      "4       27in 4K Gaming Monitor  2428930\n",
      "5       34in Ultrawide Monitor  2349439\n",
      "6     Apple Airpods Headphones  2349150\n",
      "7                Flatscreen TV  1445700\n",
      "8   Bose SoundSport Headphones  1332375\n",
      "9             27in FHD Monitor  1124993\n",
      "10             Vareebadd Phone   827200\n",
      "11                20in Monitor   450089\n",
      "12          LG Washing Machine   399600\n",
      "13                    LG Dryer   387600\n",
      "14    Lightning Charging Cable   326597\n",
      "15        USB-C Charging Cable   265797\n",
      "16            Wired Headphones   227802\n",
      "17       AA Batteries (4-pack)    89961\n",
      "18      AAA Batteries (4-pack)    72410\n",
      "Product    Macbook Pro LaptopiPhoneThinkPad LaptopGoogle ...\n",
      "Sales                                               34354615\n",
      "dtype: object\n"
     ]
    }
   ],
   "source": [
    "#Top 5 sales by product and the total revenue\n",
    "# Assuming 'sales' is your DataFrame\n",
    "highsales = sales.groupby(['Product'])['Sales'].agg(sum).sort_values(ascending=False).reset_index()\n",
    "print(highsales)\n",
    "\n",
    "total_revenue = highsales.sum()\n",
    "print(total_revenue)\n"
   ]
  },
  {
   "cell_type": "code",
   "execution_count": 23,
   "id": "cc404530",
   "metadata": {
    "execution": {
     "iopub.execute_input": "2024-01-12T13:28:42.055714Z",
     "iopub.status.busy": "2024-01-12T13:28:42.054860Z",
     "iopub.status.idle": "2024-01-12T13:28:42.775390Z",
     "shell.execute_reply": "2024-01-12T13:28:42.774226Z"
    },
    "papermill": {
     "duration": 0.739151,
     "end_time": "2024-01-12T13:28:42.778349",
     "exception": false,
     "start_time": "2024-01-12T13:28:42.039198",
     "status": "completed"
    },
    "tags": []
   },
   "outputs": [
    {
     "data": {
      "text/plain": [
       "Text(0.5, 1.0, 'Top 5 products by sale count')"
      ]
     },
     "execution_count": 23,
     "metadata": {},
     "output_type": "execute_result"
    },
    {
     "data": {
      "image/png": "[encoded data removed]",
      "text/plain": [
       "<Figure size 640x480 with 1 Axes>"
      ]
     },
     "metadata": {},
     "output_type": "display_data"
    }
   ],
   "source": [
    "sns.barplot(data=highsales.head(), x='Product' , y='Sales' ,hue='Product')\n",
    "plt.xticks(rotation=70)\n",
    "plt.title('Top 5 products by sale count')"
   ]
  },
  {
   "cell_type": "code",
   "execution_count": 24,
   "id": "06fd360e",
   "metadata": {
    "execution": {
     "iopub.execute_input": "2024-01-12T13:28:42.816828Z",
     "iopub.status.busy": "2024-01-12T13:28:42.816064Z",
     "iopub.status.idle": "2024-01-12T13:28:42.852191Z",
     "shell.execute_reply": "2024-01-12T13:28:42.850999Z"
    },
    "papermill": {
     "duration": 0.060822,
     "end_time": "2024-01-12T13:28:42.854623",
     "exception": false,
     "start_time": "2024-01-12T13:28:42.793801",
     "status": "completed"
    },
    "tags": []
   },
   "outputs": [
    {
     "data": {
      "text/html": [
       "<div>\n",
       "<style scoped>\n",
       "    .dataframe tbody tr th:only-of-type {\n",
       "        vertical-align: middle;\n",
       "    }\n",
       "\n",
       "    .dataframe tbody tr th {\n",
       "        vertical-align: top;\n",
       "    }\n",
       "\n",
       "    .dataframe thead th {\n",
       "        text-align: right;\n",
       "    }\n",
       "</style>\n",
       "<table border=\"1\" class=\"dataframe\">\n",
       "  <thead>\n",
       "    <tr style=\"text-align: right;\">\n",
       "      <th></th>\n",
       "      <th>Product</th>\n",
       "      <th>Quantity Ordered</th>\n",
       "    </tr>\n",
       "  </thead>\n",
       "  <tbody>\n",
       "    <tr>\n",
       "      <th>14</th>\n",
       "      <td>ThinkPad Laptop</td>\n",
       "      <td>4130</td>\n",
       "    </tr>\n",
       "    <tr>\n",
       "      <th>15</th>\n",
       "      <td>20in Monitor</td>\n",
       "      <td>4129</td>\n",
       "    </tr>\n",
       "    <tr>\n",
       "      <th>16</th>\n",
       "      <td>Vareebadd Phone</td>\n",
       "      <td>2068</td>\n",
       "    </tr>\n",
       "    <tr>\n",
       "      <th>17</th>\n",
       "      <td>LG Washing Machine</td>\n",
       "      <td>666</td>\n",
       "    </tr>\n",
       "    <tr>\n",
       "      <th>18</th>\n",
       "      <td>LG Dryer</td>\n",
       "      <td>646</td>\n",
       "    </tr>\n",
       "  </tbody>\n",
       "</table>\n",
       "</div>"
      ],
      "text/plain": [
       "               Product  Quantity Ordered\n",
       "14     ThinkPad Laptop              4130\n",
       "15        20in Monitor              4129\n",
       "16     Vareebadd Phone              2068\n",
       "17  LG Washing Machine               666\n",
       "18            LG Dryer               646"
      ]
     },
     "execution_count": 24,
     "metadata": {},
     "output_type": "execute_result"
    }
   ],
   "source": [
    "#Top 5 best selling products\n",
    "high_selling_products=sales.groupby(['Product'])['Quantity Ordered'].agg(sum).sort_values(ascending=False).reset_index()\n",
    "high_selling_products\n",
    "high_selling_products.head()\n",
    "# 5 Low selling products\n",
    "high_selling_products.tail()"
   ]
  },
  {
   "cell_type": "code",
   "execution_count": 25,
   "id": "ccbe3f67",
   "metadata": {
    "execution": {
     "iopub.execute_input": "2024-01-12T13:28:42.890198Z",
     "iopub.status.busy": "2024-01-12T13:28:42.889715Z",
     "iopub.status.idle": "2024-01-12T13:28:43.548761Z",
     "shell.execute_reply": "2024-01-12T13:28:43.547866Z"
    },
    "papermill": {
     "duration": 0.682718,
     "end_time": "2024-01-12T13:28:43.552978",
     "exception": false,
     "start_time": "2024-01-12T13:28:42.870260",
     "status": "completed"
    },
    "tags": []
   },
   "outputs": [
    {
     "data": {
      "text/plain": [
       "Text(0.5, 1.0, 'Top 5  best selling products')"
      ]
     },
     "execution_count": 25,
     "metadata": {},
     "output_type": "execute_result"
    },
    {
     "data": {
      "image/png": "[encoded data removed]",
      "text/plain": [
       "<Figure size 640x480 with 1 Axes>"
      ]
     },
     "metadata": {},
     "output_type": "display_data"
    }
   ],
   "source": [
    "sns.barplot(data=high_selling_products.head(), x='Product', y='Quantity Ordered' , hue='Quantity Ordered')\n",
    "plt.xticks(rotation=70)\n",
    "plt.title('Top 5  best selling products')\n"
   ]
  },
  {
   "cell_type": "code",
   "execution_count": 26,
   "id": "a6b93399",
   "metadata": {
    "execution": {
     "iopub.execute_input": "2024-01-12T13:28:43.594371Z",
     "iopub.status.busy": "2024-01-12T13:28:43.593968Z",
     "iopub.status.idle": "2024-01-12T13:28:43.628510Z",
     "shell.execute_reply": "2024-01-12T13:28:43.627357Z"
    },
    "papermill": {
     "duration": 0.056043,
     "end_time": "2024-01-12T13:28:43.631000",
     "exception": false,
     "start_time": "2024-01-12T13:28:43.574957",
     "status": "completed"
    },
    "tags": []
   },
   "outputs": [
    {
     "data": {
      "text/html": [
       "<div>\n",
       "<style scoped>\n",
       "    .dataframe tbody tr th:only-of-type {\n",
       "        vertical-align: middle;\n",
       "    }\n",
       "\n",
       "    .dataframe tbody tr th {\n",
       "        vertical-align: top;\n",
       "    }\n",
       "\n",
       "    .dataframe thead th {\n",
       "        text-align: right;\n",
       "    }\n",
       "</style>\n",
       "<table border=\"1\" class=\"dataframe\">\n",
       "  <thead>\n",
       "    <tr style=\"text-align: right;\">\n",
       "      <th></th>\n",
       "      <th>City</th>\n",
       "      <th>Sales</th>\n",
       "    </tr>\n",
       "  </thead>\n",
       "  <tbody>\n",
       "    <tr>\n",
       "      <th>0</th>\n",
       "      <td>San Francisco</td>\n",
       "      <td>8229136</td>\n",
       "    </tr>\n",
       "    <tr>\n",
       "      <th>1</th>\n",
       "      <td>Los Angeles</td>\n",
       "      <td>5430629</td>\n",
       "    </tr>\n",
       "    <tr>\n",
       "      <th>2</th>\n",
       "      <td>New York City</td>\n",
       "      <td>4645903</td>\n",
       "    </tr>\n",
       "    <tr>\n",
       "      <th>3</th>\n",
       "      <td>Boston</td>\n",
       "      <td>3646904</td>\n",
       "    </tr>\n",
       "    <tr>\n",
       "      <th>4</th>\n",
       "      <td>Atlanta</td>\n",
       "      <td>2784555</td>\n",
       "    </tr>\n",
       "    <tr>\n",
       "      <th>5</th>\n",
       "      <td>Dallas</td>\n",
       "      <td>2757017</td>\n",
       "    </tr>\n",
       "    <tr>\n",
       "      <th>6</th>\n",
       "      <td>Seattle</td>\n",
       "      <td>2736881</td>\n",
       "    </tr>\n",
       "    <tr>\n",
       "      <th>7</th>\n",
       "      <td>Portland</td>\n",
       "      <td>2311293</td>\n",
       "    </tr>\n",
       "    <tr>\n",
       "      <th>8</th>\n",
       "      <td>Austin</td>\n",
       "      <td>1812297</td>\n",
       "    </tr>\n",
       "  </tbody>\n",
       "</table>\n",
       "</div>"
      ],
      "text/plain": [
       "             City    Sales\n",
       "0   San Francisco  8229136\n",
       "1     Los Angeles  5430629\n",
       "2   New York City  4645903\n",
       "3          Boston  3646904\n",
       "4         Atlanta  2784555\n",
       "5          Dallas  2757017\n",
       "6         Seattle  2736881\n",
       "7        Portland  2311293\n",
       "8          Austin  1812297"
      ]
     },
     "execution_count": 26,
     "metadata": {},
     "output_type": "execute_result"
    }
   ],
   "source": [
    "#Top 5 cities by sales\n",
    "top_cities_by_sales=sales.groupby(['City'])['Sales'].agg(sum).sort_values(ascending=False).reset_index()\n",
    "top_cities_by_sales\n"
   ]
  },
  {
   "cell_type": "code",
   "execution_count": 27,
   "id": "6b14720c",
   "metadata": {
    "execution": {
     "iopub.execute_input": "2024-01-12T13:28:43.739489Z",
     "iopub.status.busy": "2024-01-12T13:28:43.739103Z",
     "iopub.status.idle": "2024-01-12T13:28:44.353956Z",
     "shell.execute_reply": "2024-01-12T13:28:44.352702Z"
    },
    "papermill": {
     "duration": 0.708685,
     "end_time": "2024-01-12T13:28:44.356690",
     "exception": false,
     "start_time": "2024-01-12T13:28:43.648005",
     "status": "completed"
    },
    "tags": []
   },
   "outputs": [
    {
     "data": {
      "text/plain": [
       "Text(0.5, 1.0, 'Top 5 cities by Sales count')"
      ]
     },
     "execution_count": 27,
     "metadata": {},
     "output_type": "execute_result"
    },
    {
     "data": {
      "image/png": "[encoded data removed]",
      "text/plain": [
       "<Figure size 640x480 with 1 Axes>"
      ]
     },
     "metadata": {},
     "output_type": "display_data"
    }
   ],
   "source": [
    "sns.barplot(data=top_cities_by_sales.head(), x='City' ,y='Sales' , hue='City' , palette='dark')\n",
    "plt.xticks(rotation=70)\n",
    "plt.title('Top 5 cities by Sales count')"
   ]
  },
  {
   "cell_type": "code",
   "execution_count": 28,
   "id": "96e95025",
   "metadata": {
    "execution": {
     "iopub.execute_input": "2024-01-12T13:28:44.394667Z",
     "iopub.status.busy": "2024-01-12T13:28:44.394276Z",
     "iopub.status.idle": "2024-01-12T13:28:44.487643Z",
     "shell.execute_reply": "2024-01-12T13:28:44.486211Z"
    },
    "papermill": {
     "duration": 0.115781,
     "end_time": "2024-01-12T13:28:44.490689",
     "exception": false,
     "start_time": "2024-01-12T13:28:44.374908",
     "status": "completed"
    },
    "tags": []
   },
   "outputs": [
    {
     "data": {
      "text/html": [
       "<div>\n",
       "<style scoped>\n",
       "    .dataframe tbody tr th:only-of-type {\n",
       "        vertical-align: middle;\n",
       "    }\n",
       "\n",
       "    .dataframe tbody tr th {\n",
       "        vertical-align: top;\n",
       "    }\n",
       "\n",
       "    .dataframe thead th {\n",
       "        text-align: right;\n",
       "    }\n",
       "</style>\n",
       "<table border=\"1\" class=\"dataframe\">\n",
       "  <thead>\n",
       "    <tr style=\"text-align: right;\">\n",
       "      <th>Month</th>\n",
       "      <th>1</th>\n",
       "      <th>2</th>\n",
       "      <th>3</th>\n",
       "      <th>4</th>\n",
       "      <th>5</th>\n",
       "      <th>6</th>\n",
       "      <th>7</th>\n",
       "      <th>8</th>\n",
       "      <th>9</th>\n",
       "      <th>10</th>\n",
       "      <th>11</th>\n",
       "      <th>12</th>\n",
       "    </tr>\n",
       "    <tr>\n",
       "      <th>Product</th>\n",
       "      <th></th>\n",
       "      <th></th>\n",
       "      <th></th>\n",
       "      <th></th>\n",
       "      <th></th>\n",
       "      <th></th>\n",
       "      <th></th>\n",
       "      <th></th>\n",
       "      <th></th>\n",
       "      <th></th>\n",
       "      <th></th>\n",
       "      <th></th>\n",
       "    </tr>\n",
       "  </thead>\n",
       "  <tbody>\n",
       "    <tr>\n",
       "      <th>20in Monitor</th>\n",
       "      <td>218</td>\n",
       "      <td>246</td>\n",
       "      <td>326</td>\n",
       "      <td>393</td>\n",
       "      <td>341</td>\n",
       "      <td>322</td>\n",
       "      <td>327</td>\n",
       "      <td>261</td>\n",
       "      <td>277</td>\n",
       "      <td>429</td>\n",
       "      <td>420</td>\n",
       "      <td>569</td>\n",
       "    </tr>\n",
       "    <tr>\n",
       "      <th>27in 4K Gaming Monitor</th>\n",
       "      <td>313</td>\n",
       "      <td>427</td>\n",
       "      <td>479</td>\n",
       "      <td>566</td>\n",
       "      <td>542</td>\n",
       "      <td>451</td>\n",
       "      <td>483</td>\n",
       "      <td>440</td>\n",
       "      <td>381</td>\n",
       "      <td>723</td>\n",
       "      <td>575</td>\n",
       "      <td>864</td>\n",
       "    </tr>\n",
       "    <tr>\n",
       "      <th>27in FHD Monitor</th>\n",
       "      <td>422</td>\n",
       "      <td>475</td>\n",
       "      <td>608</td>\n",
       "      <td>736</td>\n",
       "      <td>689</td>\n",
       "      <td>567</td>\n",
       "      <td>607</td>\n",
       "      <td>491</td>\n",
       "      <td>483</td>\n",
       "      <td>791</td>\n",
       "      <td>719</td>\n",
       "      <td>962</td>\n",
       "    </tr>\n",
       "    <tr>\n",
       "      <th>34in Ultrawide Monitor</th>\n",
       "      <td>314</td>\n",
       "      <td>418</td>\n",
       "      <td>522</td>\n",
       "      <td>654</td>\n",
       "      <td>544</td>\n",
       "      <td>455</td>\n",
       "      <td>462</td>\n",
       "      <td>380</td>\n",
       "      <td>379</td>\n",
       "      <td>671</td>\n",
       "      <td>551</td>\n",
       "      <td>849</td>\n",
       "    </tr>\n",
       "    <tr>\n",
       "      <th>AA Batteries (4-pack)</th>\n",
       "      <td>1424</td>\n",
       "      <td>1735</td>\n",
       "      <td>2216</td>\n",
       "      <td>2821</td>\n",
       "      <td>2384</td>\n",
       "      <td>2096</td>\n",
       "      <td>2071</td>\n",
       "      <td>1828</td>\n",
       "      <td>1771</td>\n",
       "      <td>2940</td>\n",
       "      <td>2625</td>\n",
       "      <td>3724</td>\n",
       "    </tr>\n",
       "    <tr>\n",
       "      <th>AAA Batteries (4-pack)</th>\n",
       "      <td>1600</td>\n",
       "      <td>1972</td>\n",
       "      <td>2479</td>\n",
       "      <td>2939</td>\n",
       "      <td>2927</td>\n",
       "      <td>2162</td>\n",
       "      <td>2365</td>\n",
       "      <td>2021</td>\n",
       "      <td>1923</td>\n",
       "      <td>3363</td>\n",
       "      <td>3025</td>\n",
       "      <td>4241</td>\n",
       "    </tr>\n",
       "    <tr>\n",
       "      <th>Apple Airpods Headphones</th>\n",
       "      <td>818</td>\n",
       "      <td>1012</td>\n",
       "      <td>1322</td>\n",
       "      <td>1519</td>\n",
       "      <td>1365</td>\n",
       "      <td>1167</td>\n",
       "      <td>1220</td>\n",
       "      <td>1009</td>\n",
       "      <td>969</td>\n",
       "      <td>1671</td>\n",
       "      <td>1513</td>\n",
       "      <td>2076</td>\n",
       "    </tr>\n",
       "    <tr>\n",
       "      <th>Bose SoundSport Headphones</th>\n",
       "      <td>662</td>\n",
       "      <td>841</td>\n",
       "      <td>1198</td>\n",
       "      <td>1287</td>\n",
       "      <td>1176</td>\n",
       "      <td>983</td>\n",
       "      <td>1060</td>\n",
       "      <td>881</td>\n",
       "      <td>828</td>\n",
       "      <td>1465</td>\n",
       "      <td>1252</td>\n",
       "      <td>1824</td>\n",
       "    </tr>\n",
       "    <tr>\n",
       "      <th>Flatscreen TV</th>\n",
       "      <td>244</td>\n",
       "      <td>313</td>\n",
       "      <td>362</td>\n",
       "      <td>460</td>\n",
       "      <td>399</td>\n",
       "      <td>367</td>\n",
       "      <td>399</td>\n",
       "      <td>331</td>\n",
       "      <td>294</td>\n",
       "      <td>524</td>\n",
       "      <td>460</td>\n",
       "      <td>666</td>\n",
       "    </tr>\n",
       "    <tr>\n",
       "      <th>Google Phone</th>\n",
       "      <td>319</td>\n",
       "      <td>381</td>\n",
       "      <td>463</td>\n",
       "      <td>580</td>\n",
       "      <td>480</td>\n",
       "      <td>391</td>\n",
       "      <td>411</td>\n",
       "      <td>361</td>\n",
       "      <td>341</td>\n",
       "      <td>597</td>\n",
       "      <td>493</td>\n",
       "      <td>715</td>\n",
       "    </tr>\n",
       "    <tr>\n",
       "      <th>LG Dryer</th>\n",
       "      <td>39</td>\n",
       "      <td>38</td>\n",
       "      <td>49</td>\n",
       "      <td>78</td>\n",
       "      <td>76</td>\n",
       "      <td>43</td>\n",
       "      <td>55</td>\n",
       "      <td>46</td>\n",
       "      <td>30</td>\n",
       "      <td>50</td>\n",
       "      <td>56</td>\n",
       "      <td>86</td>\n",
       "    </tr>\n",
       "    <tr>\n",
       "      <th>LG Washing Machine</th>\n",
       "      <td>42</td>\n",
       "      <td>40</td>\n",
       "      <td>64</td>\n",
       "      <td>61</td>\n",
       "      <td>64</td>\n",
       "      <td>55</td>\n",
       "      <td>52</td>\n",
       "      <td>48</td>\n",
       "      <td>46</td>\n",
       "      <td>61</td>\n",
       "      <td>53</td>\n",
       "      <td>80</td>\n",
       "    </tr>\n",
       "    <tr>\n",
       "      <th>Lightning Charging Cable</th>\n",
       "      <td>1155</td>\n",
       "      <td>1499</td>\n",
       "      <td>1873</td>\n",
       "      <td>2373</td>\n",
       "      <td>2075</td>\n",
       "      <td>1687</td>\n",
       "      <td>1811</td>\n",
       "      <td>1443</td>\n",
       "      <td>1432</td>\n",
       "      <td>2572</td>\n",
       "      <td>2210</td>\n",
       "      <td>3087</td>\n",
       "    </tr>\n",
       "    <tr>\n",
       "      <th>Macbook Pro Laptop</th>\n",
       "      <td>235</td>\n",
       "      <td>276</td>\n",
       "      <td>379</td>\n",
       "      <td>454</td>\n",
       "      <td>465</td>\n",
       "      <td>356</td>\n",
       "      <td>368</td>\n",
       "      <td>299</td>\n",
       "      <td>288</td>\n",
       "      <td>525</td>\n",
       "      <td>440</td>\n",
       "      <td>643</td>\n",
       "    </tr>\n",
       "    <tr>\n",
       "      <th>ThinkPad Laptop</th>\n",
       "      <td>219</td>\n",
       "      <td>275</td>\n",
       "      <td>345</td>\n",
       "      <td>390</td>\n",
       "      <td>371</td>\n",
       "      <td>314</td>\n",
       "      <td>319</td>\n",
       "      <td>274</td>\n",
       "      <td>249</td>\n",
       "      <td>461</td>\n",
       "      <td>374</td>\n",
       "      <td>539</td>\n",
       "    </tr>\n",
       "    <tr>\n",
       "      <th>USB-C Charging Cable</th>\n",
       "      <td>1287</td>\n",
       "      <td>1654</td>\n",
       "      <td>1944</td>\n",
       "      <td>2269</td>\n",
       "      <td>2068</td>\n",
       "      <td>1675</td>\n",
       "      <td>1849</td>\n",
       "      <td>1462</td>\n",
       "      <td>1594</td>\n",
       "      <td>2667</td>\n",
       "      <td>2256</td>\n",
       "      <td>3250</td>\n",
       "    </tr>\n",
       "    <tr>\n",
       "      <th>Vareebadd Phone</th>\n",
       "      <td>126</td>\n",
       "      <td>129</td>\n",
       "      <td>174</td>\n",
       "      <td>220</td>\n",
       "      <td>185</td>\n",
       "      <td>155</td>\n",
       "      <td>146</td>\n",
       "      <td>143</td>\n",
       "      <td>126</td>\n",
       "      <td>203</td>\n",
       "      <td>177</td>\n",
       "      <td>284</td>\n",
       "    </tr>\n",
       "    <tr>\n",
       "      <th>Wired Headphones</th>\n",
       "      <td>1085</td>\n",
       "      <td>1279</td>\n",
       "      <td>1664</td>\n",
       "      <td>2065</td>\n",
       "      <td>1876</td>\n",
       "      <td>1474</td>\n",
       "      <td>1565</td>\n",
       "      <td>1291</td>\n",
       "      <td>1301</td>\n",
       "      <td>2274</td>\n",
       "      <td>1934</td>\n",
       "      <td>2749</td>\n",
       "    </tr>\n",
       "    <tr>\n",
       "      <th>iPhone</th>\n",
       "      <td>381</td>\n",
       "      <td>439</td>\n",
       "      <td>538</td>\n",
       "      <td>693</td>\n",
       "      <td>640</td>\n",
       "      <td>533</td>\n",
       "      <td>502</td>\n",
       "      <td>439</td>\n",
       "      <td>397</td>\n",
       "      <td>716</td>\n",
       "      <td>665</td>\n",
       "      <td>906</td>\n",
       "    </tr>\n",
       "  </tbody>\n",
       "</table>\n",
       "</div>"
      ],
      "text/plain": [
       "Month                         1     2     3     4     5     6     7     8   \\\n",
       "Product                                                                      \n",
       "20in Monitor                 218   246   326   393   341   322   327   261   \n",
       "27in 4K Gaming Monitor       313   427   479   566   542   451   483   440   \n",
       "27in FHD Monitor             422   475   608   736   689   567   607   491   \n",
       "34in Ultrawide Monitor       314   418   522   654   544   455   462   380   \n",
       "AA Batteries (4-pack)       1424  1735  2216  2821  2384  2096  2071  1828   \n",
       "AAA Batteries (4-pack)      1600  1972  2479  2939  2927  2162  2365  2021   \n",
       "Apple Airpods Headphones     818  1012  1322  1519  1365  1167  1220  1009   \n",
       "Bose SoundSport Headphones   662   841  1198  1287  1176   983  1060   881   \n",
       "Flatscreen TV                244   313   362   460   399   367   399   331   \n",
       "Google Phone                 319   381   463   580   480   391   411   361   \n",
       "LG Dryer                      39    38    49    78    76    43    55    46   \n",
       "LG Washing Machine            42    40    64    61    64    55    52    48   \n",
       "Lightning Charging Cable    1155  1499  1873  2373  2075  1687  1811  1443   \n",
       "Macbook Pro Laptop           235   276   379   454   465   356   368   299   \n",
       "ThinkPad Laptop              219   275   345   390   371   314   319   274   \n",
       "USB-C Charging Cable        1287  1654  1944  2269  2068  1675  1849  1462   \n",
       "Vareebadd Phone              126   129   174   220   185   155   146   143   \n",
       "Wired Headphones            1085  1279  1664  2065  1876  1474  1565  1291   \n",
       "iPhone                       381   439   538   693   640   533   502   439   \n",
       "\n",
       "Month                         9     10    11    12  \n",
       "Product                                             \n",
       "20in Monitor                 277   429   420   569  \n",
       "27in 4K Gaming Monitor       381   723   575   864  \n",
       "27in FHD Monitor             483   791   719   962  \n",
       "34in Ultrawide Monitor       379   671   551   849  \n",
       "AA Batteries (4-pack)       1771  2940  2625  3724  \n",
       "AAA Batteries (4-pack)      1923  3363  3025  4241  \n",
       "Apple Airpods Headphones     969  1671  1513  2076  \n",
       "Bose SoundSport Headphones   828  1465  1252  1824  \n",
       "Flatscreen TV                294   524   460   666  \n",
       "Google Phone                 341   597   493   715  \n",
       "LG Dryer                      30    50    56    86  \n",
       "LG Washing Machine            46    61    53    80  \n",
       "Lightning Charging Cable    1432  2572  2210  3087  \n",
       "Macbook Pro Laptop           288   525   440   643  \n",
       "ThinkPad Laptop              249   461   374   539  \n",
       "USB-C Charging Cable        1594  2667  2256  3250  \n",
       "Vareebadd Phone              126   203   177   284  \n",
       "Wired Headphones            1301  2274  1934  2749  \n",
       "iPhone                       397   716   665   906  "
      ]
     },
     "execution_count": 28,
     "metadata": {},
     "output_type": "execute_result"
    }
   ],
   "source": [
    "#Quantity ordered in each month groupby product and month\n",
    "pivot_table = sales.groupby(['Product', 'City', 'Month'])['Quantity Ordered'].agg(sum).reset_index()\n",
    "pivot_table = pivot_table.pivot_table(index=['Product'], columns='Month', values='Quantity Ordered',aggfunc=sum, fill_value=0)\n",
    "pivot_table"
   ]
  },
  {
   "cell_type": "code",
   "execution_count": 29,
   "id": "0690619b",
   "metadata": {
    "execution": {
     "iopub.execute_input": "2024-01-12T13:28:44.531756Z",
     "iopub.status.busy": "2024-01-12T13:28:44.530744Z",
     "iopub.status.idle": "2024-01-12T13:28:44.631598Z",
     "shell.execute_reply": "2024-01-12T13:28:44.630241Z"
    },
    "papermill": {
     "duration": 0.124254,
     "end_time": "2024-01-12T13:28:44.634176",
     "exception": false,
     "start_time": "2024-01-12T13:28:44.509922",
     "status": "completed"
    },
    "tags": []
   },
   "outputs": [
    {
     "data": {
      "text/html": [
       "<div>\n",
       "<style scoped>\n",
       "    .dataframe tbody tr th:only-of-type {\n",
       "        vertical-align: middle;\n",
       "    }\n",
       "\n",
       "    .dataframe tbody tr th {\n",
       "        vertical-align: top;\n",
       "    }\n",
       "\n",
       "    .dataframe thead th {\n",
       "        text-align: right;\n",
       "    }\n",
       "</style>\n",
       "<table border=\"1\" class=\"dataframe\">\n",
       "  <thead>\n",
       "    <tr style=\"text-align: right;\">\n",
       "      <th>Product</th>\n",
       "      <th>20in Monitor</th>\n",
       "      <th>27in 4K Gaming Monitor</th>\n",
       "      <th>27in FHD Monitor</th>\n",
       "      <th>34in Ultrawide Monitor</th>\n",
       "      <th>AA Batteries (4-pack)</th>\n",
       "      <th>AAA Batteries (4-pack)</th>\n",
       "      <th>Apple Airpods Headphones</th>\n",
       "      <th>Bose SoundSport Headphones</th>\n",
       "      <th>Flatscreen TV</th>\n",
       "      <th>Google Phone</th>\n",
       "      <th>LG Dryer</th>\n",
       "      <th>LG Washing Machine</th>\n",
       "      <th>Lightning Charging Cable</th>\n",
       "      <th>Macbook Pro Laptop</th>\n",
       "      <th>ThinkPad Laptop</th>\n",
       "      <th>USB-C Charging Cable</th>\n",
       "      <th>Vareebadd Phone</th>\n",
       "      <th>Wired Headphones</th>\n",
       "      <th>iPhone</th>\n",
       "    </tr>\n",
       "    <tr>\n",
       "      <th>City</th>\n",
       "      <th></th>\n",
       "      <th></th>\n",
       "      <th></th>\n",
       "      <th></th>\n",
       "      <th></th>\n",
       "      <th></th>\n",
       "      <th></th>\n",
       "      <th></th>\n",
       "      <th></th>\n",
       "      <th></th>\n",
       "      <th></th>\n",
       "      <th></th>\n",
       "      <th></th>\n",
       "      <th></th>\n",
       "      <th></th>\n",
       "      <th></th>\n",
       "      <th></th>\n",
       "      <th></th>\n",
       "      <th></th>\n",
       "    </tr>\n",
       "  </thead>\n",
       "  <tbody>\n",
       "    <tr>\n",
       "      <th>Atlanta</th>\n",
       "      <td>1.011834</td>\n",
       "      <td>1.002033</td>\n",
       "      <td>1.006849</td>\n",
       "      <td>1.008368</td>\n",
       "      <td>1.320289</td>\n",
       "      <td>1.476220</td>\n",
       "      <td>1.002375</td>\n",
       "      <td>1.006500</td>\n",
       "      <td>1.004938</td>\n",
       "      <td>1.000000</td>\n",
       "      <td>1.0</td>\n",
       "      <td>1.0</td>\n",
       "      <td>1.071266</td>\n",
       "      <td>1.000000</td>\n",
       "      <td>1.000000</td>\n",
       "      <td>1.080090</td>\n",
       "      <td>1.000000</td>\n",
       "      <td>1.092734</td>\n",
       "      <td>1.003690</td>\n",
       "    </tr>\n",
       "    <tr>\n",
       "      <th>Austin</th>\n",
       "      <td>1.008772</td>\n",
       "      <td>1.000000</td>\n",
       "      <td>1.011236</td>\n",
       "      <td>1.000000</td>\n",
       "      <td>1.329599</td>\n",
       "      <td>1.528873</td>\n",
       "      <td>1.005669</td>\n",
       "      <td>1.018732</td>\n",
       "      <td>1.000000</td>\n",
       "      <td>1.000000</td>\n",
       "      <td>1.0</td>\n",
       "      <td>1.0</td>\n",
       "      <td>1.065200</td>\n",
       "      <td>1.000000</td>\n",
       "      <td>1.000000</td>\n",
       "      <td>1.093531</td>\n",
       "      <td>1.000000</td>\n",
       "      <td>1.104594</td>\n",
       "      <td>1.000000</td>\n",
       "    </tr>\n",
       "    <tr>\n",
       "      <th>Boston</th>\n",
       "      <td>1.000000</td>\n",
       "      <td>1.002972</td>\n",
       "      <td>1.005044</td>\n",
       "      <td>1.002990</td>\n",
       "      <td>1.361625</td>\n",
       "      <td>1.504129</td>\n",
       "      <td>1.006699</td>\n",
       "      <td>1.009986</td>\n",
       "      <td>1.005445</td>\n",
       "      <td>1.001689</td>\n",
       "      <td>1.0</td>\n",
       "      <td>1.0</td>\n",
       "      <td>1.072320</td>\n",
       "      <td>1.002092</td>\n",
       "      <td>1.002242</td>\n",
       "      <td>1.097728</td>\n",
       "      <td>1.000000</td>\n",
       "      <td>1.097284</td>\n",
       "      <td>1.001330</td>\n",
       "    </tr>\n",
       "    <tr>\n",
       "      <th>Dallas</th>\n",
       "      <td>1.008824</td>\n",
       "      <td>1.004175</td>\n",
       "      <td>1.012069</td>\n",
       "      <td>1.001957</td>\n",
       "      <td>1.335499</td>\n",
       "      <td>1.517576</td>\n",
       "      <td>1.005897</td>\n",
       "      <td>1.007583</td>\n",
       "      <td>1.002387</td>\n",
       "      <td>1.000000</td>\n",
       "      <td>1.0</td>\n",
       "      <td>1.0</td>\n",
       "      <td>1.083721</td>\n",
       "      <td>1.000000</td>\n",
       "      <td>1.000000</td>\n",
       "      <td>1.095210</td>\n",
       "      <td>1.000000</td>\n",
       "      <td>1.101650</td>\n",
       "      <td>1.000000</td>\n",
       "    </tr>\n",
       "    <tr>\n",
       "      <th>Los Angeles</th>\n",
       "      <td>1.006116</td>\n",
       "      <td>1.000000</td>\n",
       "      <td>1.004930</td>\n",
       "      <td>1.002099</td>\n",
       "      <td>1.349346</td>\n",
       "      <td>1.499245</td>\n",
       "      <td>1.008564</td>\n",
       "      <td>1.012387</td>\n",
       "      <td>1.004144</td>\n",
       "      <td>1.003550</td>\n",
       "      <td>1.0</td>\n",
       "      <td>1.0</td>\n",
       "      <td>1.074032</td>\n",
       "      <td>1.000000</td>\n",
       "      <td>1.000000</td>\n",
       "      <td>1.094962</td>\n",
       "      <td>1.000000</td>\n",
       "      <td>1.074597</td>\n",
       "      <td>1.000895</td>\n",
       "    </tr>\n",
       "    <tr>\n",
       "      <th>New York City</th>\n",
       "      <td>1.009009</td>\n",
       "      <td>1.002381</td>\n",
       "      <td>1.002806</td>\n",
       "      <td>1.003468</td>\n",
       "      <td>1.357009</td>\n",
       "      <td>1.487198</td>\n",
       "      <td>1.009139</td>\n",
       "      <td>1.012987</td>\n",
       "      <td>1.004800</td>\n",
       "      <td>1.000000</td>\n",
       "      <td>1.0</td>\n",
       "      <td>1.0</td>\n",
       "      <td>1.062915</td>\n",
       "      <td>1.001524</td>\n",
       "      <td>1.001789</td>\n",
       "      <td>1.097717</td>\n",
       "      <td>1.007168</td>\n",
       "      <td>1.087149</td>\n",
       "      <td>1.000000</td>\n",
       "    </tr>\n",
       "    <tr>\n",
       "      <th>Portland</th>\n",
       "      <td>1.003610</td>\n",
       "      <td>1.002309</td>\n",
       "      <td>1.003788</td>\n",
       "      <td>1.002488</td>\n",
       "      <td>1.349339</td>\n",
       "      <td>1.530537</td>\n",
       "      <td>1.009183</td>\n",
       "      <td>1.006795</td>\n",
       "      <td>1.003215</td>\n",
       "      <td>1.000000</td>\n",
       "      <td>1.0</td>\n",
       "      <td>1.0</td>\n",
       "      <td>1.066899</td>\n",
       "      <td>1.000000</td>\n",
       "      <td>1.000000</td>\n",
       "      <td>1.085048</td>\n",
       "      <td>1.000000</td>\n",
       "      <td>1.098387</td>\n",
       "      <td>1.002227</td>\n",
       "    </tr>\n",
       "    <tr>\n",
       "      <th>San Francisco</th>\n",
       "      <td>1.007049</td>\n",
       "      <td>1.002747</td>\n",
       "      <td>1.006101</td>\n",
       "      <td>1.002774</td>\n",
       "      <td>1.336937</td>\n",
       "      <td>1.502028</td>\n",
       "      <td>1.007557</td>\n",
       "      <td>1.009127</td>\n",
       "      <td>1.004352</td>\n",
       "      <td>1.002214</td>\n",
       "      <td>1.0</td>\n",
       "      <td>1.0</td>\n",
       "      <td>1.074024</td>\n",
       "      <td>1.001764</td>\n",
       "      <td>1.000000</td>\n",
       "      <td>1.097988</td>\n",
       "      <td>1.002028</td>\n",
       "      <td>1.081446</td>\n",
       "      <td>1.000602</td>\n",
       "    </tr>\n",
       "    <tr>\n",
       "      <th>Seattle</th>\n",
       "      <td>1.006211</td>\n",
       "      <td>1.003731</td>\n",
       "      <td>1.003466</td>\n",
       "      <td>1.001876</td>\n",
       "      <td>1.334354</td>\n",
       "      <td>1.506158</td>\n",
       "      <td>1.006400</td>\n",
       "      <td>1.004730</td>\n",
       "      <td>1.002674</td>\n",
       "      <td>1.000000</td>\n",
       "      <td>1.0</td>\n",
       "      <td>1.0</td>\n",
       "      <td>1.074455</td>\n",
       "      <td>1.000000</td>\n",
       "      <td>1.000000</td>\n",
       "      <td>1.096831</td>\n",
       "      <td>1.000000</td>\n",
       "      <td>1.094765</td>\n",
       "      <td>1.001835</td>\n",
       "    </tr>\n",
       "  </tbody>\n",
       "</table>\n",
       "</div>"
      ],
      "text/plain": [
       "Product         20in Monitor  27in 4K Gaming Monitor  27in FHD Monitor  \\\n",
       "City                                                                     \n",
       " Atlanta            1.011834                1.002033          1.006849   \n",
       " Austin             1.008772                1.000000          1.011236   \n",
       " Boston             1.000000                1.002972          1.005044   \n",
       " Dallas             1.008824                1.004175          1.012069   \n",
       " Los Angeles        1.006116                1.000000          1.004930   \n",
       " New York City      1.009009                1.002381          1.002806   \n",
       " Portland           1.003610                1.002309          1.003788   \n",
       " San Francisco      1.007049                1.002747          1.006101   \n",
       " Seattle            1.006211                1.003731          1.003466   \n",
       "\n",
       "Product         34in Ultrawide Monitor  AA Batteries (4-pack)  \\\n",
       "City                                                            \n",
       " Atlanta                      1.008368               1.320289   \n",
       " Austin                       1.000000               1.329599   \n",
       " Boston                       1.002990               1.361625   \n",
       " Dallas                       1.001957               1.335499   \n",
       " Los Angeles                  1.002099               1.349346   \n",
       " New York City                1.003468               1.357009   \n",
       " Portland                     1.002488               1.349339   \n",
       " San Francisco                1.002774               1.336937   \n",
       " Seattle                      1.001876               1.334354   \n",
       "\n",
       "Product         AAA Batteries (4-pack)  Apple Airpods Headphones  \\\n",
       "City                                                               \n",
       " Atlanta                      1.476220                  1.002375   \n",
       " Austin                       1.528873                  1.005669   \n",
       " Boston                       1.504129                  1.006699   \n",
       " Dallas                       1.517576                  1.005897   \n",
       " Los Angeles                  1.499245                  1.008564   \n",
       " New York City                1.487198                  1.009139   \n",
       " Portland                     1.530537                  1.009183   \n",
       " San Francisco                1.502028                  1.007557   \n",
       " Seattle                      1.506158                  1.006400   \n",
       "\n",
       "Product         Bose SoundSport Headphones  Flatscreen TV  Google Phone  \\\n",
       "City                                                                      \n",
       " Atlanta                          1.006500       1.004938      1.000000   \n",
       " Austin                           1.018732       1.000000      1.000000   \n",
       " Boston                           1.009986       1.005445      1.001689   \n",
       " Dallas                           1.007583       1.002387      1.000000   \n",
       " Los Angeles                      1.012387       1.004144      1.003550   \n",
       " New York City                    1.012987       1.004800      1.000000   \n",
       " Portland                         1.006795       1.003215      1.000000   \n",
       " San Francisco                    1.009127       1.004352      1.002214   \n",
       " Seattle                          1.004730       1.002674      1.000000   \n",
       "\n",
       "Product         LG Dryer  LG Washing Machine  Lightning Charging Cable  \\\n",
       "City                                                                     \n",
       " Atlanta             1.0                 1.0                  1.071266   \n",
       " Austin              1.0                 1.0                  1.065200   \n",
       " Boston              1.0                 1.0                  1.072320   \n",
       " Dallas              1.0                 1.0                  1.083721   \n",
       " Los Angeles         1.0                 1.0                  1.074032   \n",
       " New York City       1.0                 1.0                  1.062915   \n",
       " Portland            1.0                 1.0                  1.066899   \n",
       " San Francisco       1.0                 1.0                  1.074024   \n",
       " Seattle             1.0                 1.0                  1.074455   \n",
       "\n",
       "Product         Macbook Pro Laptop  ThinkPad Laptop  USB-C Charging Cable  \\\n",
       "City                                                                        \n",
       " Atlanta                  1.000000         1.000000              1.080090   \n",
       " Austin                   1.000000         1.000000              1.093531   \n",
       " Boston                   1.002092         1.002242              1.097728   \n",
       " Dallas                   1.000000         1.000000              1.095210   \n",
       " Los Angeles              1.000000         1.000000              1.094962   \n",
       " New York City            1.001524         1.001789              1.097717   \n",
       " Portland                 1.000000         1.000000              1.085048   \n",
       " San Francisco            1.001764         1.000000              1.097988   \n",
       " Seattle                  1.000000         1.000000              1.096831   \n",
       "\n",
       "Product         Vareebadd Phone  Wired Headphones    iPhone  \n",
       "City                                                         \n",
       " Atlanta               1.000000          1.092734  1.003690  \n",
       " Austin                1.000000          1.104594  1.000000  \n",
       " Boston                1.000000          1.097284  1.001330  \n",
       " Dallas                1.000000          1.101650  1.000000  \n",
       " Los Angeles           1.000000          1.074597  1.000895  \n",
       " New York City         1.007168          1.087149  1.000000  \n",
       " Portland              1.000000          1.098387  1.002227  \n",
       " San Francisco         1.002028          1.081446  1.000602  \n",
       " Seattle               1.000000          1.094765  1.001835  "
      ]
     },
     "execution_count": 29,
     "metadata": {},
     "output_type": "execute_result"
    }
   ],
   "source": [
    "#Quantity ordered groupby city and product\n",
    "pivot_table_product_quantity=sales.pivot_table('Quantity Ordered', index=['City'], columns='Product')\n",
    "pivot_table_product_quantity.sort_index()"
   ]
  }
 ],
 "metadata": {
  "kaggle": {
   "accelerator": "none",
   "dataSources": [
    {
     "datasetId": 4143328,
     "sourceId": 7171155,
     "sourceType": "datasetVersion"
    }
   ],
   "dockerImageVersionId": 30615,
   "isGpuEnabled": false,
   "isInternetEnabled": false,
   "language": "python",
   "sourceType": "notebook"
  },
  "kernelspec": {
   "display_name": "Python 3",
   "language": "python",
   "name": "python3"
  },
  "language_info": {
   "codemirror_mode": {
    "name": "ipython",
    "version": 3
   },
   "file_extension": ".py",
   "mimetype": "text/x-python",
   "name": "python",
   "nbconvert_exporter": "python",
   "pygments_lexer": "ipython3",
   "version": "3.10.12"
  },
  "papermill": {
   "default_parameters": {},
   "duration": 16.646449,
   "end_time": "2024-01-12T13:28:45.374460",
   "environment_variables": {},
   "exception": null,
   "input_path": "__notebook__.ipynb",
   "output_path": "__notebook__.ipynb",
   "parameters": {},
   "start_time": "2024-01-12T13:28:28.728011",
   "version": "2.4.0"
  }
 },
 "nbformat": 4,
 "nbformat_minor": 5
}
